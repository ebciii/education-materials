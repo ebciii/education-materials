{
 "cells": [
  {
   "cell_type": "markdown",
   "metadata": {},
   "source": [
    "# Diabetes readmission notebook\n",
    "Compiled by Victor Ruiz"
   ]
  },
  {
   "cell_type": "code",
   "execution_count": 1,
   "metadata": {
    "colab": {},
    "colab_type": "code",
    "id": "fiU5gBc-9KFV"
   },
   "outputs": [],
   "source": [
    "import pandas as pd\n",
    "\n",
    "# Ingest the dataset from our github repo\n",
    "# For more information about the data, see on Kaggle: https://www.kaggle.com/brandao/diabetes#description.pdf\n",
    "\n",
    "diabetes_data = pd.read_csv('https://raw.githubusercontent.com/arcus/education-materials/master/ml-intermediate/datasets/diabetes/diabetic_data.csv')\n"
   ]
  },
  {
   "cell_type": "code",
   "execution_count": 2,
   "metadata": {
    "colab": {
     "base_uri": "https://localhost:8080/",
     "height": 952
    },
    "colab_type": "code",
    "id": "q-6eseG9-FNF",
    "outputId": "1bc572fd-dc31-466d-eab1-367754b23e3c"
   },
   "outputs": [
    {
     "name": "stdout",
     "output_type": "stream",
     "text": [
      "<class 'pandas.core.frame.DataFrame'>\n",
      "RangeIndex: 101766 entries, 0 to 101765\n",
      "Data columns (total 50 columns):\n",
      "encounter_id                101766 non-null int64\n",
      "patient_nbr                 101766 non-null int64\n",
      "race                        101766 non-null object\n",
      "gender                      101766 non-null object\n",
      "age                         101766 non-null object\n",
      "weight                      101766 non-null object\n",
      "admission_type_id           101766 non-null int64\n",
      "discharge_disposition_id    101766 non-null int64\n",
      "admission_source_id         101766 non-null int64\n",
      "time_in_hospital            101766 non-null int64\n",
      "payer_code                  101766 non-null object\n",
      "medical_specialty           101766 non-null object\n",
      "num_lab_procedures          101766 non-null int64\n",
      "num_procedures              101766 non-null int64\n",
      "num_medications             101766 non-null int64\n",
      "number_outpatient           101766 non-null int64\n",
      "number_emergency            101766 non-null int64\n",
      "number_inpatient            101766 non-null int64\n",
      "diag_1                      101766 non-null object\n",
      "diag_2                      101766 non-null object\n",
      "diag_3                      101766 non-null object\n",
      "number_diagnoses            101766 non-null int64\n",
      "max_glu_serum               101766 non-null object\n",
      "A1Cresult                   101766 non-null object\n",
      "metformin                   101766 non-null object\n",
      "repaglinide                 101766 non-null object\n",
      "nateglinide                 101766 non-null object\n",
      "chlorpropamide              101766 non-null object\n",
      "glimepiride                 101766 non-null object\n",
      "acetohexamide               101766 non-null object\n",
      "glipizide                   101766 non-null object\n",
      "glyburide                   101766 non-null object\n",
      "tolbutamide                 101766 non-null object\n",
      "pioglitazone                101766 non-null object\n",
      "rosiglitazone               101766 non-null object\n",
      "acarbose                    101766 non-null object\n",
      "miglitol                    101766 non-null object\n",
      "troglitazone                101766 non-null object\n",
      "tolazamide                  101766 non-null object\n",
      "examide                     101766 non-null object\n",
      "citoglipton                 101766 non-null object\n",
      "insulin                     101766 non-null object\n",
      "glyburide-metformin         101766 non-null object\n",
      "glipizide-metformin         101766 non-null object\n",
      "glimepiride-pioglitazone    101766 non-null object\n",
      "metformin-rosiglitazone     101766 non-null object\n",
      "metformin-pioglitazone      101766 non-null object\n",
      "change                      101766 non-null object\n",
      "diabetesMed                 101766 non-null object\n",
      "readmitted                  101766 non-null object\n",
      "dtypes: int64(13), object(37)\n",
      "memory usage: 38.8+ MB\n"
     ]
    }
   ],
   "source": [
    "diabetes_data.info()"
   ]
  },
  {
   "cell_type": "code",
   "execution_count": 3,
   "metadata": {
    "colab": {
     "base_uri": "https://localhost:8080/",
     "height": 326
    },
    "colab_type": "code",
    "id": "QBCppF-w_PV9",
    "outputId": "cfde73d4-a7d2-409d-82a0-f82c0a83c7f6"
   },
   "outputs": [
    {
     "data": {
      "text/html": [
       "<div>\n",
       "<style scoped>\n",
       "    .dataframe tbody tr th:only-of-type {\n",
       "        vertical-align: middle;\n",
       "    }\n",
       "\n",
       "    .dataframe tbody tr th {\n",
       "        vertical-align: top;\n",
       "    }\n",
       "\n",
       "    .dataframe thead th {\n",
       "        text-align: right;\n",
       "    }\n",
       "</style>\n",
       "<table border=\"1\" class=\"dataframe\">\n",
       "  <thead>\n",
       "    <tr style=\"text-align: right;\">\n",
       "      <th></th>\n",
       "      <th>encounter_id</th>\n",
       "      <th>patient_nbr</th>\n",
       "      <th>race</th>\n",
       "      <th>gender</th>\n",
       "      <th>age</th>\n",
       "      <th>weight</th>\n",
       "      <th>admission_type_id</th>\n",
       "      <th>discharge_disposition_id</th>\n",
       "      <th>admission_source_id</th>\n",
       "      <th>time_in_hospital</th>\n",
       "      <th>...</th>\n",
       "      <th>citoglipton</th>\n",
       "      <th>insulin</th>\n",
       "      <th>glyburide-metformin</th>\n",
       "      <th>glipizide-metformin</th>\n",
       "      <th>glimepiride-pioglitazone</th>\n",
       "      <th>metformin-rosiglitazone</th>\n",
       "      <th>metformin-pioglitazone</th>\n",
       "      <th>change</th>\n",
       "      <th>diabetesMed</th>\n",
       "      <th>readmitted</th>\n",
       "    </tr>\n",
       "  </thead>\n",
       "  <tbody>\n",
       "    <tr>\n",
       "      <th>0</th>\n",
       "      <td>2278392</td>\n",
       "      <td>8222157</td>\n",
       "      <td>Caucasian</td>\n",
       "      <td>Female</td>\n",
       "      <td>[0-10)</td>\n",
       "      <td>?</td>\n",
       "      <td>6</td>\n",
       "      <td>25</td>\n",
       "      <td>1</td>\n",
       "      <td>1</td>\n",
       "      <td>...</td>\n",
       "      <td>No</td>\n",
       "      <td>No</td>\n",
       "      <td>No</td>\n",
       "      <td>No</td>\n",
       "      <td>No</td>\n",
       "      <td>No</td>\n",
       "      <td>No</td>\n",
       "      <td>No</td>\n",
       "      <td>No</td>\n",
       "      <td>NO</td>\n",
       "    </tr>\n",
       "    <tr>\n",
       "      <th>1</th>\n",
       "      <td>149190</td>\n",
       "      <td>55629189</td>\n",
       "      <td>Caucasian</td>\n",
       "      <td>Female</td>\n",
       "      <td>[10-20)</td>\n",
       "      <td>?</td>\n",
       "      <td>1</td>\n",
       "      <td>1</td>\n",
       "      <td>7</td>\n",
       "      <td>3</td>\n",
       "      <td>...</td>\n",
       "      <td>No</td>\n",
       "      <td>Up</td>\n",
       "      <td>No</td>\n",
       "      <td>No</td>\n",
       "      <td>No</td>\n",
       "      <td>No</td>\n",
       "      <td>No</td>\n",
       "      <td>Ch</td>\n",
       "      <td>Yes</td>\n",
       "      <td>&gt;30</td>\n",
       "    </tr>\n",
       "    <tr>\n",
       "      <th>2</th>\n",
       "      <td>64410</td>\n",
       "      <td>86047875</td>\n",
       "      <td>AfricanAmerican</td>\n",
       "      <td>Female</td>\n",
       "      <td>[20-30)</td>\n",
       "      <td>?</td>\n",
       "      <td>1</td>\n",
       "      <td>1</td>\n",
       "      <td>7</td>\n",
       "      <td>2</td>\n",
       "      <td>...</td>\n",
       "      <td>No</td>\n",
       "      <td>No</td>\n",
       "      <td>No</td>\n",
       "      <td>No</td>\n",
       "      <td>No</td>\n",
       "      <td>No</td>\n",
       "      <td>No</td>\n",
       "      <td>No</td>\n",
       "      <td>Yes</td>\n",
       "      <td>NO</td>\n",
       "    </tr>\n",
       "    <tr>\n",
       "      <th>3</th>\n",
       "      <td>500364</td>\n",
       "      <td>82442376</td>\n",
       "      <td>Caucasian</td>\n",
       "      <td>Male</td>\n",
       "      <td>[30-40)</td>\n",
       "      <td>?</td>\n",
       "      <td>1</td>\n",
       "      <td>1</td>\n",
       "      <td>7</td>\n",
       "      <td>2</td>\n",
       "      <td>...</td>\n",
       "      <td>No</td>\n",
       "      <td>Up</td>\n",
       "      <td>No</td>\n",
       "      <td>No</td>\n",
       "      <td>No</td>\n",
       "      <td>No</td>\n",
       "      <td>No</td>\n",
       "      <td>Ch</td>\n",
       "      <td>Yes</td>\n",
       "      <td>NO</td>\n",
       "    </tr>\n",
       "    <tr>\n",
       "      <th>4</th>\n",
       "      <td>16680</td>\n",
       "      <td>42519267</td>\n",
       "      <td>Caucasian</td>\n",
       "      <td>Male</td>\n",
       "      <td>[40-50)</td>\n",
       "      <td>?</td>\n",
       "      <td>1</td>\n",
       "      <td>1</td>\n",
       "      <td>7</td>\n",
       "      <td>1</td>\n",
       "      <td>...</td>\n",
       "      <td>No</td>\n",
       "      <td>Steady</td>\n",
       "      <td>No</td>\n",
       "      <td>No</td>\n",
       "      <td>No</td>\n",
       "      <td>No</td>\n",
       "      <td>No</td>\n",
       "      <td>Ch</td>\n",
       "      <td>Yes</td>\n",
       "      <td>NO</td>\n",
       "    </tr>\n",
       "  </tbody>\n",
       "</table>\n",
       "<p>5 rows × 50 columns</p>\n",
       "</div>"
      ],
      "text/plain": [
       "   encounter_id  patient_nbr             race  gender      age weight  \\\n",
       "0       2278392      8222157        Caucasian  Female   [0-10)      ?   \n",
       "1        149190     55629189        Caucasian  Female  [10-20)      ?   \n",
       "2         64410     86047875  AfricanAmerican  Female  [20-30)      ?   \n",
       "3        500364     82442376        Caucasian    Male  [30-40)      ?   \n",
       "4         16680     42519267        Caucasian    Male  [40-50)      ?   \n",
       "\n",
       "   admission_type_id  discharge_disposition_id  admission_source_id  \\\n",
       "0                  6                        25                    1   \n",
       "1                  1                         1                    7   \n",
       "2                  1                         1                    7   \n",
       "3                  1                         1                    7   \n",
       "4                  1                         1                    7   \n",
       "\n",
       "   time_in_hospital  ... citoglipton insulin  glyburide-metformin  \\\n",
       "0                 1  ...          No      No                   No   \n",
       "1                 3  ...          No      Up                   No   \n",
       "2                 2  ...          No      No                   No   \n",
       "3                 2  ...          No      Up                   No   \n",
       "4                 1  ...          No  Steady                   No   \n",
       "\n",
       "   glipizide-metformin  glimepiride-pioglitazone  metformin-rosiglitazone  \\\n",
       "0                   No                        No                       No   \n",
       "1                   No                        No                       No   \n",
       "2                   No                        No                       No   \n",
       "3                   No                        No                       No   \n",
       "4                   No                        No                       No   \n",
       "\n",
       "   metformin-pioglitazone  change diabetesMed readmitted  \n",
       "0                      No      No          No         NO  \n",
       "1                      No      Ch         Yes        >30  \n",
       "2                      No      No         Yes         NO  \n",
       "3                      No      Ch         Yes         NO  \n",
       "4                      No      Ch         Yes         NO  \n",
       "\n",
       "[5 rows x 50 columns]"
      ]
     },
     "execution_count": 3,
     "metadata": {},
     "output_type": "execute_result"
    }
   ],
   "source": [
    "diabetes_data.head()"
   ]
  },
  {
   "cell_type": "markdown",
   "metadata": {
    "colab_type": "text",
    "id": "I2vU7OVY68xA"
   },
   "source": [
    "What is the outcome?"
   ]
  },
  {
   "cell_type": "code",
   "execution_count": 4,
   "metadata": {
    "colab": {
     "base_uri": "https://localhost:8080/",
     "height": 85
    },
    "colab_type": "code",
    "id": "Mn5ddySs6_4Y",
    "outputId": "b4441cd7-958c-43ae-a554-71f42d032d5f"
   },
   "outputs": [
    {
     "data": {
      "text/plain": [
       "NO     54864\n",
       ">30    35545\n",
       "<30    11357\n",
       "Name: readmitted, dtype: int64"
      ]
     },
     "execution_count": 4,
     "metadata": {},
     "output_type": "execute_result"
    }
   ],
   "source": [
    "diabetes_data.readmitted.value_counts()"
   ]
  },
  {
   "cell_type": "code",
   "execution_count": 5,
   "metadata": {
    "colab": {
     "base_uri": "https://localhost:8080/",
     "height": 68
    },
    "colab_type": "code",
    "id": "yycp6K1S7DDo",
    "outputId": "fc8ff025-d5ab-4aaa-d9eb-b86ca40aec6a"
   },
   "outputs": [
    {
     "data": {
      "text/plain": [
       "False    90409\n",
       "True     11357\n",
       "Name: readmitted, dtype: int64"
      ]
     },
     "execution_count": 5,
     "metadata": {},
     "output_type": "execute_result"
    }
   ],
   "source": [
    "### convert class to binary\n",
    "diabetes_data.loc[:, 'readmitted'] = diabetes_data.readmitted == '<30' # but why?\n",
    "diabetes_data.readmitted.value_counts()"
   ]
  },
  {
   "cell_type": "markdown",
   "metadata": {
    "colab_type": "text",
    "id": "H6jREF5-zdVz"
   },
   "source": [
    "Things to note from the data above:\n",
    "\n",
    "\n",
    "*   There ARE missing data\n",
    "*   Object columns have binary and categorical values\n",
    "\n",
    "Let's replace '?' with np.nan and identify boolean features"
   ]
  },
  {
   "cell_type": "code",
   "execution_count": 6,
   "metadata": {
    "colab": {},
    "colab_type": "code",
    "id": "It0_VHLoyPhL"
   },
   "outputs": [],
   "source": [
    "import numpy as np\n",
    "diabetes_data = diabetes_data.replace('?', np.nan)\n",
    "binary_features = [\n",
    "      var for var in diabetes_data.columns if diabetes_data[var].isin(['Yes', 'No', np.nan]).all()\n",
    "]"
   ]
  },
  {
   "cell_type": "code",
   "execution_count": 7,
   "metadata": {
    "colab": {
     "base_uri": "https://localhost:8080/",
     "height": 34
    },
    "colab_type": "code",
    "id": "WFxtLBwJzm0-",
    "outputId": "0bd31e8a-f7d8-42d3-f7bc-1e40e71edec5"
   },
   "outputs": [
    {
     "data": {
      "text/plain": [
       "['examide', 'citoglipton', 'diabetesMed']"
      ]
     },
     "execution_count": 7,
     "metadata": {},
     "output_type": "execute_result"
    }
   ],
   "source": [
    "binary_features"
   ]
  },
  {
   "cell_type": "code",
   "execution_count": 8,
   "metadata": {
    "colab": {
     "base_uri": "https://localhost:8080/",
     "height": 85
    },
    "colab_type": "code",
    "id": "gIV1jka7zoxy",
    "outputId": "49ac6e75-90c9-47bf-cd48-c3e812710642"
   },
   "outputs": [
    {
     "data": {
      "text/plain": [
       "No        101727\n",
       "Steady        38\n",
       "Up             1\n",
       "Name: tolazamide, dtype: int64"
      ]
     },
     "execution_count": 8,
     "metadata": {},
     "output_type": "execute_result"
    }
   ],
   "source": [
    "diabetes_data.tolazamide.value_counts() # see anything problematic????"
   ]
  },
  {
   "cell_type": "code",
   "execution_count": 9,
   "metadata": {
    "colab": {
     "base_uri": "https://localhost:8080/",
     "height": 952
    },
    "colab_type": "code",
    "id": "FdJmAjPCzsoQ",
    "outputId": "1be389f8-0070-491d-c3e6-c09755608a8d"
   },
   "outputs": [
    {
     "name": "stdout",
     "output_type": "stream",
     "text": [
      "<class 'pandas.core.frame.DataFrame'>\n",
      "RangeIndex: 101766 entries, 0 to 101765\n",
      "Data columns (total 50 columns):\n",
      "encounter_id                101766 non-null int64\n",
      "patient_nbr                 101766 non-null int64\n",
      "race                        99493 non-null object\n",
      "gender                      101766 non-null object\n",
      "age                         101766 non-null object\n",
      "weight                      3197 non-null object\n",
      "admission_type_id           101766 non-null int64\n",
      "discharge_disposition_id    101766 non-null int64\n",
      "admission_source_id         101766 non-null int64\n",
      "time_in_hospital            101766 non-null int64\n",
      "payer_code                  61510 non-null object\n",
      "medical_specialty           51817 non-null object\n",
      "num_lab_procedures          101766 non-null int64\n",
      "num_procedures              101766 non-null int64\n",
      "num_medications             101766 non-null int64\n",
      "number_outpatient           101766 non-null int64\n",
      "number_emergency            101766 non-null int64\n",
      "number_inpatient            101766 non-null int64\n",
      "diag_1                      101745 non-null object\n",
      "diag_2                      101408 non-null object\n",
      "diag_3                      100343 non-null object\n",
      "number_diagnoses            101766 non-null int64\n",
      "max_glu_serum               101766 non-null object\n",
      "A1Cresult                   101766 non-null object\n",
      "metformin                   101766 non-null object\n",
      "repaglinide                 101766 non-null object\n",
      "nateglinide                 101766 non-null object\n",
      "chlorpropamide              101766 non-null object\n",
      "glimepiride                 101766 non-null object\n",
      "acetohexamide               101766 non-null object\n",
      "glipizide                   101766 non-null object\n",
      "glyburide                   101766 non-null object\n",
      "tolbutamide                 101766 non-null object\n",
      "pioglitazone                101766 non-null object\n",
      "rosiglitazone               101766 non-null object\n",
      "acarbose                    101766 non-null object\n",
      "miglitol                    101766 non-null object\n",
      "troglitazone                101766 non-null object\n",
      "tolazamide                  101766 non-null object\n",
      "examide                     101766 non-null object\n",
      "citoglipton                 101766 non-null object\n",
      "insulin                     101766 non-null object\n",
      "glyburide-metformin         101766 non-null object\n",
      "glipizide-metformin         101766 non-null object\n",
      "glimepiride-pioglitazone    101766 non-null object\n",
      "metformin-rosiglitazone     101766 non-null object\n",
      "metformin-pioglitazone      101766 non-null object\n",
      "change                      101766 non-null object\n",
      "diabetesMed                 101766 non-null object\n",
      "readmitted                  101766 non-null bool\n",
      "dtypes: bool(1), int64(13), object(36)\n",
      "memory usage: 38.1+ MB\n"
     ]
    }
   ],
   "source": [
    "diabetes_data.info()"
   ]
  },
  {
   "cell_type": "markdown",
   "metadata": {
    "colab_type": "text",
    "id": "o-4l156y1RQb"
   },
   "source": [
    "So we hace both numeric and categorical features, what do we do about that? --> Encoding! (dummy, one-hot, ordinal, ..., )\n",
    "\n",
    "sklearn requires numeric features only, so we will use dummy encoding for non-numeric features"
   ]
  },
  {
   "cell_type": "code",
   "execution_count": 10,
   "metadata": {
    "colab": {},
    "colab_type": "code",
    "id": "T0JphAvG9_hW"
   },
   "outputs": [
    {
     "data": {
      "text/plain": [
       "array(['race', 'gender', 'age', 'weight', 'payer_code',\n",
       "       'medical_specialty', 'diag_1', 'diag_2', 'diag_3', 'max_glu_serum',\n",
       "       'A1Cresult', 'metformin', 'repaglinide', 'nateglinide',\n",
       "       'chlorpropamide', 'glimepiride', 'acetohexamide', 'glipizide',\n",
       "       'glyburide', 'tolbutamide', 'pioglitazone', 'rosiglitazone',\n",
       "       'acarbose', 'miglitol', 'troglitazone', 'tolazamide', 'examide',\n",
       "       'citoglipton', 'insulin', 'glyburide-metformin',\n",
       "       'glipizide-metformin', 'glimepiride-pioglitazone',\n",
       "       'metformin-rosiglitazone', 'metformin-pioglitazone', 'change',\n",
       "       'diabetesMed', 'readmitted'], dtype=object)"
      ]
     },
     "execution_count": 10,
     "metadata": {},
     "output_type": "execute_result"
    }
   ],
   "source": [
    "numeric = diabetes_data.dtypes[(diabetes_data.dtypes == 'int') | (diabetes_data.dtypes == 'float')].index.values\n",
    "non_numeric = diabetes_data.columns[~diabetes_data.columns.isin(numeric)].values\n",
    "\n",
    "non_numeric"
   ]
  },
  {
   "cell_type": "markdown",
   "metadata": {
    "colab_type": "text",
    "id": "9S7tY_yV2Iw_"
   },
   "source": [
    "Just in case, let's check how many unique values each of these feature has"
   ]
  },
  {
   "cell_type": "code",
   "execution_count": 11,
   "metadata": {
    "colab": {
     "base_uri": "https://localhost:8080/",
     "height": 663
    },
    "colab_type": "code",
    "id": "VZ_PxTEd2DO3",
    "outputId": "e4b69e3c-1f15-4a1f-a217-b5679abe3641"
   },
   "outputs": [
    {
     "data": {
      "text/plain": [
       "428      6862\n",
       "414      6581\n",
       "786      4016\n",
       "410      3614\n",
       "486      3508\n",
       "427      2766\n",
       "491      2275\n",
       "715      2151\n",
       "682      2042\n",
       "434      2028\n",
       "780      2019\n",
       "996      1967\n",
       "276      1889\n",
       "38       1688\n",
       "250.8    1680\n",
       "599      1595\n",
       "584      1520\n",
       "V57      1207\n",
       "250.6    1183\n",
       "518      1115\n",
       "Name: diag_1, dtype: int64"
      ]
     },
     "execution_count": 11,
     "metadata": {},
     "output_type": "execute_result"
    }
   ],
   "source": [
    "diabetes_data[non_numeric].apply(lambda x: x.unique().size, axis=0)\n",
    "diabetes_data.diag_1.value_counts().head(20)"
   ]
  },
  {
   "cell_type": "markdown",
   "metadata": {
    "colab_type": "text",
    "id": "kxxIcN-U3SXm"
   },
   "source": [
    "For simplicity, let's assume that diag_1 is the primary diagnosis and drop the rest"
   ]
  },
  {
   "cell_type": "code",
   "execution_count": 12,
   "metadata": {
    "colab": {},
    "colab_type": "code",
    "id": "8XsnH4So3Hkf"
   },
   "outputs": [],
   "source": [
    "del diabetes_data['diag_2']\n",
    "del diabetes_data['diag_3'] # yes, I know how ugly this looks"
   ]
  },
  {
   "cell_type": "markdown",
   "metadata": {
    "colab_type": "text",
    "id": "1mIdo2PS5Dti"
   },
   "source": [
    "Are numeric features really numeric?\n"
   ]
  },
  {
   "cell_type": "code",
   "execution_count": 13,
   "metadata": {
    "colab": {
     "base_uri": "https://localhost:8080/",
     "height": 224
    },
    "colab_type": "code",
    "id": "at6QT4Lc5Oaj",
    "outputId": "ba4fefc6-b715-4a84-f9bf-ecfa7f195fd4"
   },
   "outputs": [
    {
     "data": {
      "text/html": [
       "<div>\n",
       "<style scoped>\n",
       "    .dataframe tbody tr th:only-of-type {\n",
       "        vertical-align: middle;\n",
       "    }\n",
       "\n",
       "    .dataframe tbody tr th {\n",
       "        vertical-align: top;\n",
       "    }\n",
       "\n",
       "    .dataframe thead th {\n",
       "        text-align: right;\n",
       "    }\n",
       "</style>\n",
       "<table border=\"1\" class=\"dataframe\">\n",
       "  <thead>\n",
       "    <tr style=\"text-align: right;\">\n",
       "      <th></th>\n",
       "      <th>encounter_id</th>\n",
       "      <th>patient_nbr</th>\n",
       "      <th>admission_type_id</th>\n",
       "      <th>discharge_disposition_id</th>\n",
       "      <th>admission_source_id</th>\n",
       "      <th>time_in_hospital</th>\n",
       "      <th>num_lab_procedures</th>\n",
       "      <th>num_procedures</th>\n",
       "      <th>num_medications</th>\n",
       "      <th>number_outpatient</th>\n",
       "      <th>number_emergency</th>\n",
       "      <th>number_inpatient</th>\n",
       "      <th>number_diagnoses</th>\n",
       "    </tr>\n",
       "  </thead>\n",
       "  <tbody>\n",
       "    <tr>\n",
       "      <th>0</th>\n",
       "      <td>2278392</td>\n",
       "      <td>8222157</td>\n",
       "      <td>6</td>\n",
       "      <td>25</td>\n",
       "      <td>1</td>\n",
       "      <td>1</td>\n",
       "      <td>41</td>\n",
       "      <td>0</td>\n",
       "      <td>1</td>\n",
       "      <td>0</td>\n",
       "      <td>0</td>\n",
       "      <td>0</td>\n",
       "      <td>1</td>\n",
       "    </tr>\n",
       "    <tr>\n",
       "      <th>1</th>\n",
       "      <td>149190</td>\n",
       "      <td>55629189</td>\n",
       "      <td>1</td>\n",
       "      <td>1</td>\n",
       "      <td>7</td>\n",
       "      <td>3</td>\n",
       "      <td>59</td>\n",
       "      <td>0</td>\n",
       "      <td>18</td>\n",
       "      <td>0</td>\n",
       "      <td>0</td>\n",
       "      <td>0</td>\n",
       "      <td>9</td>\n",
       "    </tr>\n",
       "    <tr>\n",
       "      <th>2</th>\n",
       "      <td>64410</td>\n",
       "      <td>86047875</td>\n",
       "      <td>1</td>\n",
       "      <td>1</td>\n",
       "      <td>7</td>\n",
       "      <td>2</td>\n",
       "      <td>11</td>\n",
       "      <td>5</td>\n",
       "      <td>13</td>\n",
       "      <td>2</td>\n",
       "      <td>0</td>\n",
       "      <td>1</td>\n",
       "      <td>6</td>\n",
       "    </tr>\n",
       "    <tr>\n",
       "      <th>3</th>\n",
       "      <td>500364</td>\n",
       "      <td>82442376</td>\n",
       "      <td>1</td>\n",
       "      <td>1</td>\n",
       "      <td>7</td>\n",
       "      <td>2</td>\n",
       "      <td>44</td>\n",
       "      <td>1</td>\n",
       "      <td>16</td>\n",
       "      <td>0</td>\n",
       "      <td>0</td>\n",
       "      <td>0</td>\n",
       "      <td>7</td>\n",
       "    </tr>\n",
       "    <tr>\n",
       "      <th>4</th>\n",
       "      <td>16680</td>\n",
       "      <td>42519267</td>\n",
       "      <td>1</td>\n",
       "      <td>1</td>\n",
       "      <td>7</td>\n",
       "      <td>1</td>\n",
       "      <td>51</td>\n",
       "      <td>0</td>\n",
       "      <td>8</td>\n",
       "      <td>0</td>\n",
       "      <td>0</td>\n",
       "      <td>0</td>\n",
       "      <td>5</td>\n",
       "    </tr>\n",
       "  </tbody>\n",
       "</table>\n",
       "</div>"
      ],
      "text/plain": [
       "   encounter_id  patient_nbr  admission_type_id  discharge_disposition_id  \\\n",
       "0       2278392      8222157                  6                        25   \n",
       "1        149190     55629189                  1                         1   \n",
       "2         64410     86047875                  1                         1   \n",
       "3        500364     82442376                  1                         1   \n",
       "4         16680     42519267                  1                         1   \n",
       "\n",
       "   admission_source_id  time_in_hospital  num_lab_procedures  num_procedures  \\\n",
       "0                    1                 1                  41               0   \n",
       "1                    7                 3                  59               0   \n",
       "2                    7                 2                  11               5   \n",
       "3                    7                 2                  44               1   \n",
       "4                    7                 1                  51               0   \n",
       "\n",
       "   num_medications  number_outpatient  number_emergency  number_inpatient  \\\n",
       "0                1                  0                 0                 0   \n",
       "1               18                  0                 0                 0   \n",
       "2               13                  2                 0                 1   \n",
       "3               16                  0                 0                 0   \n",
       "4                8                  0                 0                 0   \n",
       "\n",
       "   number_diagnoses  \n",
       "0                 1  \n",
       "1                 9  \n",
       "2                 6  \n",
       "3                 7  \n",
       "4                 5  "
      ]
     },
     "execution_count": 13,
     "metadata": {},
     "output_type": "execute_result"
    }
   ],
   "source": [
    "diabetes_data[numeric].head()"
   ]
  },
  {
   "cell_type": "markdown",
   "metadata": {
    "colab_type": "text",
    "id": "QWWXcCVW5aMZ"
   },
   "source": [
    "\n",
    "\n",
    "*   encounter_id should not be used for prediction, why?\n",
    "*   ^ditto for patient_nbr\n",
    "* What about admission_type_id, discharge_disposition_id, admission_source_id?\n",
    "\n"
   ]
  },
  {
   "cell_type": "code",
   "execution_count": 14,
   "metadata": {
    "colab": {},
    "colab_type": "code",
    "id": "w5F-A0Fp5z8J"
   },
   "outputs": [],
   "source": [
    "non_numeric = np.concatenate((non_numeric, np.array(['admission_type_id', 'discharge_disposition_id', 'admission_source_id'])))\n",
    "del diabetes_data['encounter_id'] # still ugly -.-'\n",
    "del diabetes_data['patient_nbr']"
   ]
  },
  {
   "cell_type": "markdown",
   "metadata": {
    "colab_type": "text",
    "id": "20WCE-VU3pz3"
   },
   "source": [
    "OK, encoding time!"
   ]
  },
  {
   "cell_type": "code",
   "execution_count": 15,
   "metadata": {
    "colab": {},
    "colab_type": "code",
    "id": "bkvPxyPl3h50"
   },
   "outputs": [],
   "source": [
    "non_numeric = non_numeric[~np.isin(non_numeric, ['diag_2', 'diag_3', 'readmitted', 'encounter_id', 'patient_nbr'])]\n",
    "encoded_data = pd.get_dummies(data=diabetes_data, prefix_sep='__dummycat__', dummy_na=True, columns=non_numeric, drop_first=True)"
   ]
  },
  {
   "cell_type": "code",
   "execution_count": 16,
   "metadata": {
    "colab": {
     "base_uri": "https://localhost:8080/",
     "height": 34
    },
    "colab_type": "code",
    "id": "3JxTN_q64Cb-",
    "outputId": "e4e25a04-9b17-4b99-9127-86fe87518efa"
   },
   "outputs": [
    {
     "data": {
      "text/plain": [
       "(101766, 975)"
      ]
     },
     "execution_count": 16,
     "metadata": {},
     "output_type": "execute_result"
    }
   ],
   "source": [
    "encoded_data.shape"
   ]
  },
  {
   "cell_type": "code",
   "execution_count": 17,
   "metadata": {
    "colab": {
     "base_uri": "https://localhost:8080/",
     "height": 34
    },
    "colab_type": "code",
    "id": "j4AnN5Ao4FHR",
    "outputId": "63e35121-cba9-4ab5-88f6-1303a6a296f6"
   },
   "outputs": [
    {
     "data": {
      "text/plain": [
       "(101766, 46)"
      ]
     },
     "execution_count": 17,
     "metadata": {},
     "output_type": "execute_result"
    }
   ],
   "source": [
    "diabetes_data.shape"
   ]
  },
  {
   "cell_type": "code",
   "execution_count": 18,
   "metadata": {
    "colab": {
     "base_uri": "https://localhost:8080/",
     "height": 270
    },
    "colab_type": "code",
    "id": "B8vzNaBO4X2N",
    "outputId": "099cc102-3821-45b1-aa0e-8b3b66269165"
   },
   "outputs": [
    {
     "data": {
      "text/html": [
       "<div>\n",
       "<style scoped>\n",
       "    .dataframe tbody tr th:only-of-type {\n",
       "        vertical-align: middle;\n",
       "    }\n",
       "\n",
       "    .dataframe tbody tr th {\n",
       "        vertical-align: top;\n",
       "    }\n",
       "\n",
       "    .dataframe thead th {\n",
       "        text-align: right;\n",
       "    }\n",
       "</style>\n",
       "<table border=\"1\" class=\"dataframe\">\n",
       "  <thead>\n",
       "    <tr style=\"text-align: right;\">\n",
       "      <th></th>\n",
       "      <th>time_in_hospital</th>\n",
       "      <th>num_lab_procedures</th>\n",
       "      <th>num_procedures</th>\n",
       "      <th>num_medications</th>\n",
       "      <th>number_outpatient</th>\n",
       "      <th>number_emergency</th>\n",
       "      <th>number_inpatient</th>\n",
       "      <th>number_diagnoses</th>\n",
       "      <th>readmitted</th>\n",
       "      <th>race__dummycat__Asian</th>\n",
       "      <th>...</th>\n",
       "      <th>admission_source_id__dummycat__9.0</th>\n",
       "      <th>admission_source_id__dummycat__10.0</th>\n",
       "      <th>admission_source_id__dummycat__11.0</th>\n",
       "      <th>admission_source_id__dummycat__13.0</th>\n",
       "      <th>admission_source_id__dummycat__14.0</th>\n",
       "      <th>admission_source_id__dummycat__17.0</th>\n",
       "      <th>admission_source_id__dummycat__20.0</th>\n",
       "      <th>admission_source_id__dummycat__22.0</th>\n",
       "      <th>admission_source_id__dummycat__25.0</th>\n",
       "      <th>admission_source_id__dummycat__nan</th>\n",
       "    </tr>\n",
       "  </thead>\n",
       "  <tbody>\n",
       "    <tr>\n",
       "      <th>0</th>\n",
       "      <td>1</td>\n",
       "      <td>41</td>\n",
       "      <td>0</td>\n",
       "      <td>1</td>\n",
       "      <td>0</td>\n",
       "      <td>0</td>\n",
       "      <td>0</td>\n",
       "      <td>1</td>\n",
       "      <td>False</td>\n",
       "      <td>0</td>\n",
       "      <td>...</td>\n",
       "      <td>0</td>\n",
       "      <td>0</td>\n",
       "      <td>0</td>\n",
       "      <td>0</td>\n",
       "      <td>0</td>\n",
       "      <td>0</td>\n",
       "      <td>0</td>\n",
       "      <td>0</td>\n",
       "      <td>0</td>\n",
       "      <td>0</td>\n",
       "    </tr>\n",
       "    <tr>\n",
       "      <th>1</th>\n",
       "      <td>3</td>\n",
       "      <td>59</td>\n",
       "      <td>0</td>\n",
       "      <td>18</td>\n",
       "      <td>0</td>\n",
       "      <td>0</td>\n",
       "      <td>0</td>\n",
       "      <td>9</td>\n",
       "      <td>False</td>\n",
       "      <td>0</td>\n",
       "      <td>...</td>\n",
       "      <td>0</td>\n",
       "      <td>0</td>\n",
       "      <td>0</td>\n",
       "      <td>0</td>\n",
       "      <td>0</td>\n",
       "      <td>0</td>\n",
       "      <td>0</td>\n",
       "      <td>0</td>\n",
       "      <td>0</td>\n",
       "      <td>0</td>\n",
       "    </tr>\n",
       "    <tr>\n",
       "      <th>2</th>\n",
       "      <td>2</td>\n",
       "      <td>11</td>\n",
       "      <td>5</td>\n",
       "      <td>13</td>\n",
       "      <td>2</td>\n",
       "      <td>0</td>\n",
       "      <td>1</td>\n",
       "      <td>6</td>\n",
       "      <td>False</td>\n",
       "      <td>0</td>\n",
       "      <td>...</td>\n",
       "      <td>0</td>\n",
       "      <td>0</td>\n",
       "      <td>0</td>\n",
       "      <td>0</td>\n",
       "      <td>0</td>\n",
       "      <td>0</td>\n",
       "      <td>0</td>\n",
       "      <td>0</td>\n",
       "      <td>0</td>\n",
       "      <td>0</td>\n",
       "    </tr>\n",
       "    <tr>\n",
       "      <th>3</th>\n",
       "      <td>2</td>\n",
       "      <td>44</td>\n",
       "      <td>1</td>\n",
       "      <td>16</td>\n",
       "      <td>0</td>\n",
       "      <td>0</td>\n",
       "      <td>0</td>\n",
       "      <td>7</td>\n",
       "      <td>False</td>\n",
       "      <td>0</td>\n",
       "      <td>...</td>\n",
       "      <td>0</td>\n",
       "      <td>0</td>\n",
       "      <td>0</td>\n",
       "      <td>0</td>\n",
       "      <td>0</td>\n",
       "      <td>0</td>\n",
       "      <td>0</td>\n",
       "      <td>0</td>\n",
       "      <td>0</td>\n",
       "      <td>0</td>\n",
       "    </tr>\n",
       "    <tr>\n",
       "      <th>4</th>\n",
       "      <td>1</td>\n",
       "      <td>51</td>\n",
       "      <td>0</td>\n",
       "      <td>8</td>\n",
       "      <td>0</td>\n",
       "      <td>0</td>\n",
       "      <td>0</td>\n",
       "      <td>5</td>\n",
       "      <td>False</td>\n",
       "      <td>0</td>\n",
       "      <td>...</td>\n",
       "      <td>0</td>\n",
       "      <td>0</td>\n",
       "      <td>0</td>\n",
       "      <td>0</td>\n",
       "      <td>0</td>\n",
       "      <td>0</td>\n",
       "      <td>0</td>\n",
       "      <td>0</td>\n",
       "      <td>0</td>\n",
       "      <td>0</td>\n",
       "    </tr>\n",
       "  </tbody>\n",
       "</table>\n",
       "<p>5 rows × 975 columns</p>\n",
       "</div>"
      ],
      "text/plain": [
       "   time_in_hospital  num_lab_procedures  num_procedures  num_medications  \\\n",
       "0                 1                  41               0                1   \n",
       "1                 3                  59               0               18   \n",
       "2                 2                  11               5               13   \n",
       "3                 2                  44               1               16   \n",
       "4                 1                  51               0                8   \n",
       "\n",
       "   number_outpatient  number_emergency  number_inpatient  number_diagnoses  \\\n",
       "0                  0                 0                 0                 1   \n",
       "1                  0                 0                 0                 9   \n",
       "2                  2                 0                 1                 6   \n",
       "3                  0                 0                 0                 7   \n",
       "4                  0                 0                 0                 5   \n",
       "\n",
       "   readmitted  race__dummycat__Asian  ...  admission_source_id__dummycat__9.0  \\\n",
       "0       False                      0  ...                                   0   \n",
       "1       False                      0  ...                                   0   \n",
       "2       False                      0  ...                                   0   \n",
       "3       False                      0  ...                                   0   \n",
       "4       False                      0  ...                                   0   \n",
       "\n",
       "   admission_source_id__dummycat__10.0  admission_source_id__dummycat__11.0  \\\n",
       "0                                    0                                    0   \n",
       "1                                    0                                    0   \n",
       "2                                    0                                    0   \n",
       "3                                    0                                    0   \n",
       "4                                    0                                    0   \n",
       "\n",
       "   admission_source_id__dummycat__13.0  admission_source_id__dummycat__14.0  \\\n",
       "0                                    0                                    0   \n",
       "1                                    0                                    0   \n",
       "2                                    0                                    0   \n",
       "3                                    0                                    0   \n",
       "4                                    0                                    0   \n",
       "\n",
       "   admission_source_id__dummycat__17.0  admission_source_id__dummycat__20.0  \\\n",
       "0                                    0                                    0   \n",
       "1                                    0                                    0   \n",
       "2                                    0                                    0   \n",
       "3                                    0                                    0   \n",
       "4                                    0                                    0   \n",
       "\n",
       "   admission_source_id__dummycat__22.0  admission_source_id__dummycat__25.0  \\\n",
       "0                                    0                                    0   \n",
       "1                                    0                                    0   \n",
       "2                                    0                                    0   \n",
       "3                                    0                                    0   \n",
       "4                                    0                                    0   \n",
       "\n",
       "   admission_source_id__dummycat__nan  \n",
       "0                                   0  \n",
       "1                                   0  \n",
       "2                                   0  \n",
       "3                                   0  \n",
       "4                                   0  \n",
       "\n",
       "[5 rows x 975 columns]"
      ]
     },
     "execution_count": 18,
     "metadata": {},
     "output_type": "execute_result"
    }
   ],
   "source": [
    "encoded_data.head()"
   ]
  },
  {
   "cell_type": "markdown",
   "metadata": {
    "colab_type": "text",
    "id": "xunrakqvBAd7"
   },
   "source": [
    "Clean garbage from encoding"
   ]
  },
  {
   "cell_type": "code",
   "execution_count": null,
   "metadata": {
    "colab": {
     "base_uri": "https://localhost:8080/",
     "height": 340
    },
    "colab_type": "code",
    "id": "drP31ezF4bC-",
    "outputId": "a493a17b-e000-4d08-939d-a22e021cb330"
   },
   "outputs": [],
   "source": [
    "nunique = encoded_data.nunique()\n",
    "constant_features = nunique[nunique == 1].index.values\n",
    "constant_features"
   ]
  },
  {
   "cell_type": "code",
   "execution_count": null,
   "metadata": {
    "colab": {},
    "colab_type": "code",
    "id": "gOK1lpRp6uRK"
   },
   "outputs": [],
   "source": [
    "encoded_data = encoded_data.reindex(encoded_data.columns[~encoded_data.columns.isin(constant_features)], axis=1)"
   ]
  },
  {
   "cell_type": "markdown",
   "metadata": {
    "colab_type": "text",
    "id": "JzwrUcsRBPlo"
   },
   "source": [
    "OK time for machine learning -.-'"
   ]
  },
  {
   "cell_type": "markdown",
   "metadata": {
    "colab_type": "text",
    "id": "jRuUq52yD4eH"
   },
   "source": [
    "# Set up cross-validation"
   ]
  },
  {
   "cell_type": "code",
   "execution_count": null,
   "metadata": {
    "colab": {
     "base_uri": "https://localhost:8080/",
     "height": 102
    },
    "colab_type": "code",
    "id": "wTDDNqLZ9b0a",
    "outputId": "4576ff78-eb28-4321-c9b0-1b806ee8435f"
   },
   "outputs": [],
   "source": [
    "### create 5 stratified folds\n",
    "from sklearn.model_selection import StratifiedKFold\n",
    "class_labels = encoded_data.readmitted.values\n",
    "data = encoded_data.values\n",
    "skf = StratifiedKFold(n_splits=5, random_state=0, shuffle=True)\n",
    "train_sets = []\n",
    "test_sets = []\n",
    "\n",
    "#split data between variables and outcome\n",
    "X, y = encoded_data[encoded_data.columns[encoded_data.columns != 'readmitted']].copy(), encoded_data.readmitted.copy()\n",
    "for train_index, test_index in skf.split(data, class_labels):\n",
    "  train_sets += [(X.iloc[train_index].copy(), y.iloc[train_index].copy())]\n",
    "  test_sets += [(X.iloc[test_index].copy(), y.iloc[test_index].copy())]\n",
    "  print(train_index.shape, test_index.shape)"
   ]
  },
  {
   "cell_type": "markdown",
   "metadata": {
    "colab_type": "text",
    "id": "dlmyhQISBO2N"
   },
   "source": [
    "What does one fold look like?"
   ]
  },
  {
   "cell_type": "code",
   "execution_count": null,
   "metadata": {
    "colab": {
     "base_uri": "https://localhost:8080/",
     "height": 456
    },
    "colab_type": "code",
    "id": "xyxtct3K9j0X",
    "outputId": "acad4bf5-8348-42d0-ba11-9458ea15cc73"
   },
   "outputs": [],
   "source": [
    "train_sets[0][0]"
   ]
  },
  {
   "cell_type": "code",
   "execution_count": null,
   "metadata": {
    "colab": {
     "base_uri": "https://localhost:8080/",
     "height": 221
    },
    "colab_type": "code",
    "id": "KgZHpnd7FC4A",
    "outputId": "f4c339d8-6214-4df0-87b2-fb320873f171"
   },
   "outputs": [],
   "source": [
    "train_sets[0][1]"
   ]
  },
  {
   "cell_type": "code",
   "execution_count": null,
   "metadata": {
    "colab": {
     "base_uri": "https://localhost:8080/",
     "height": 34
    },
    "colab_type": "code",
    "id": "RUef2Ds-DX4H",
    "outputId": "5bcecc52-0194-4b64-8610-8dba05e547eb"
   },
   "outputs": [],
   "source": [
    "train_sets[0][0].shape"
   ]
  },
  {
   "cell_type": "code",
   "execution_count": null,
   "metadata": {
    "colab": {
     "base_uri": "https://localhost:8080/",
     "height": 34
    },
    "colab_type": "code",
    "id": "0MkyuqLfDbjM",
    "outputId": "be0c6798-098c-499b-af5c-03e9273b0177"
   },
   "outputs": [],
   "source": [
    "test_sets[0][0].shape"
   ]
  },
  {
   "cell_type": "markdown",
   "metadata": {
    "colab_type": "text",
    "id": "5kuNZ5R4FdYX"
   },
   "source": [
    "# Define preprocessing and classification pipeline"
   ]
  },
  {
   "cell_type": "code",
   "execution_count": null,
   "metadata": {
    "colab": {},
    "colab_type": "code",
    "id": "v_pJT-8gFh0M"
   },
   "outputs": [],
   "source": [
    "from sklearn.pipeline import Pipeline\n",
    "from sklearn.impute import SimpleImputer\n",
    "from sklearn.ensemble import RandomForestClassifier\n",
    "from sklearn.tree import DecisionTreeClassifier\n",
    "pipe = Pipeline([\n",
    "                 ('impute', SimpleImputer(strategy='median')),\n",
    "                 ('rf', DecisionTreeClassifier())\n",
    "])"
   ]
  },
  {
   "cell_type": "markdown",
   "metadata": {
    "colab_type": "text",
    "id": "gnZiVLj2EGkg"
   },
   "source": [
    "# Fit a decision tree for each fold"
   ]
  },
  {
   "cell_type": "code",
   "execution_count": null,
   "metadata": {
    "colab": {
     "base_uri": "https://localhost:8080/",
     "height": 34
    },
    "colab_type": "code",
    "id": "EcdvZoHmEFcJ",
    "outputId": "17ebba8f-eedb-4589-f6f2-90a48e303361"
   },
   "outputs": [],
   "source": [
    "from copy import deepcopy  # to clone pipeline\n",
    "models = []\n",
    "class_probs_train = []\n",
    "class_probs_test = []\n",
    "from tqdm import tqdm\n",
    "for ii in tqdm(range(5)):\n",
    "  X_train, y_train = train_sets[ii]\n",
    "  X_test, y_test = test_sets[ii]\n",
    "  model = deepcopy(pipe)\n",
    "  model.fit(X_train, y=y_train)\n",
    "  models += [model]\n",
    "  class_probs_train += [model.predict_proba(X_train)]\n",
    "  class_probs_test += [model.predict_proba(X_test)]"
   ]
  },
  {
   "cell_type": "markdown",
   "metadata": {
    "colab_type": "text",
    "id": "uSxrbQbAg472"
   },
   "source": [
    "# Compute AUC, sensitivity, specificity, and PPV"
   ]
  },
  {
   "cell_type": "code",
   "execution_count": null,
   "metadata": {
    "colab": {
     "base_uri": "https://localhost:8080/",
     "height": 136
    },
    "colab_type": "code",
    "id": "ILi2KJIxiO4T",
    "outputId": "8504b9a9-36f7-44e8-863c-0860d36f3bc0"
   },
   "outputs": [],
   "source": [
    "#how do probabilities look like?\n",
    "class_probs_train[0]"
   ]
  },
  {
   "cell_type": "code",
   "execution_count": null,
   "metadata": {
    "colab": {
     "base_uri": "https://localhost:8080/",
     "height": 34
    },
    "colab_type": "code",
    "id": "3T-U4lvEisX8",
    "outputId": "056f8514-79e7-479e-80dd-6e6f428afabd"
   },
   "outputs": [],
   "source": [
    "class_probs_train[0].shape"
   ]
  },
  {
   "cell_type": "code",
   "execution_count": null,
   "metadata": {
    "colab": {
     "base_uri": "https://localhost:8080/",
     "height": 289
    },
    "colab_type": "code",
    "id": "B_ON8NnNiUNi",
    "outputId": "9089c719-77d8-4486-a479-4c5b30a447ff"
   },
   "outputs": [],
   "source": [
    "#what about models?\n",
    "models[0]"
   ]
  },
  {
   "cell_type": "code",
   "execution_count": null,
   "metadata": {
    "colab": {
     "base_uri": "https://localhost:8080/",
     "height": 119
    },
    "colab_type": "code",
    "id": "hU7Np9GJibxH",
    "outputId": "b5e0ceaf-4e85-4526-8f68-1475d97a5cea"
   },
   "outputs": [],
   "source": [
    "models[0]['rf']"
   ]
  },
  {
   "cell_type": "code",
   "execution_count": null,
   "metadata": {
    "colab": {
     "base_uri": "https://localhost:8080/",
     "height": 357
    },
    "colab_type": "code",
    "id": "Ya6HF6lhijLZ",
    "outputId": "d4a7db7e-dba9-4678-af1a-0582c4511cc7"
   },
   "outputs": [],
   "source": [
    "models[0]['rf'].__dict__"
   ]
  },
  {
   "cell_type": "code",
   "execution_count": null,
   "metadata": {
    "colab": {},
    "colab_type": "code",
    "id": "xUps06m_kAJP"
   },
   "outputs": [],
   "source": [
    "def get_metrics(y_true, y_score, fold, desc, threshold=0.5):\n",
    "  from sklearn.metrics import roc_auc_score, confusion_matrix\n",
    "  import pandas as pd\n",
    "  tn, fp, fn, tp = confusion_matrix(y_true, y_score >= threshold).ravel()\n",
    "  sensitivity = tp / (tp + fn)\n",
    "  specificity = tn / (tn + fp)\n",
    "  ppv = tp / (tp + fp)\n",
    "  auc = roc_auc_score(y_true, y_score)\n",
    "  vals = [sensitivity, specificity, ppv, auc, fold, desc]\n",
    "  names = ['sensitivity', 'specificity', 'ppv', 'auc', 'fold', 'desc']\n",
    "  return pd.Series(vals, names)\n"
   ]
  },
  {
   "cell_type": "code",
   "execution_count": null,
   "metadata": {
    "colab": {
     "base_uri": "https://localhost:8080/",
     "height": 34
    },
    "colab_type": "code",
    "id": "J87ROYJADc5I",
    "outputId": "ce130ed3-3f90-4bd3-8b92-bad8a145d8a4"
   },
   "outputs": [],
   "source": [
    "metrics = pd.DataFrame()\n",
    "for ii in tqdm(range(5)):\n",
    "  probs_train, probs_test = class_probs_train[ii][:, 1], class_probs_test[ii][:, 1]\n",
    "  y_train, y_test = train_sets[ii][1], test_sets[ii][1]\n",
    "  metrics_train = get_metrics(y_train, probs_train, ii, 'training')\n",
    "  metrics_test = get_metrics(y_test, probs_test, ii, 'test')\n",
    "  metrics = metrics.append(metrics_train, ignore_index=True, sort=False)\n",
    "  metrics = metrics.append(metrics_test, ignore_index=True, sort=False)"
   ]
  },
  {
   "cell_type": "code",
   "execution_count": null,
   "metadata": {
    "colab": {
     "base_uri": "https://localhost:8080/",
     "height": 359
    },
    "colab_type": "code",
    "id": "8-hUccy9i1xR",
    "outputId": "c958f354-06a7-4433-ce8f-5eedf3657386"
   },
   "outputs": [],
   "source": [
    "metrics"
   ]
  },
  {
   "cell_type": "markdown",
   "metadata": {
    "colab_type": "text",
    "id": "sSTS8-sCmgsH"
   },
   "source": [
    "# Get average statistics"
   ]
  },
  {
   "cell_type": "code",
   "execution_count": null,
   "metadata": {
    "colab": {
     "base_uri": "https://localhost:8080/",
     "height": 173
    },
    "colab_type": "code",
    "id": "23vj1AwRji52",
    "outputId": "8b395076-ea46-4719-a35e-587d13943175"
   },
   "outputs": [],
   "source": [
    "metrics.groupby(['desc']).agg([np.mean, np.std])"
   ]
  },
  {
   "cell_type": "code",
   "execution_count": null,
   "metadata": {},
   "outputs": [],
   "source": [
    "# CHALLENGE: Would you like to use a specific or different measure? Play around a bit here if you'd like!"
   ]
  },
  {
   "cell_type": "markdown",
   "metadata": {
    "colab_type": "text",
    "id": "_YHdTqnJnzmn"
   },
   "source": [
    "# Results' interpretation\n",
    "* Perfect classification in training\n",
    "* Poor classification in test\n",
    "* Model has high specificity but low sensitivity. How can this be used?\n",
    "* Very little variation in test performance (still poor though)\n",
    "* Could model complexity (N features) be causing overfitting?\n",
    "\n",
    "Let's repeat the experiment with fewer features and see what happens"
   ]
  },
  {
   "cell_type": "code",
   "execution_count": null,
   "metadata": {
    "colab": {},
    "colab_type": "code",
    "id": "f5p8RTqYt6qy"
   },
   "outputs": [],
   "source": [
    "# metrics = pd.DataFrame()\n",
    "# models = []\n",
    "# from sklearn.feature_selection import SelectKBest, mutual_info_classif\n",
    "# for ii in tqdm(range(5)):\n",
    "#   X_train, y_train = train_sets[ii]\n",
    "#   X_test, y_test = test_sets[ii]\n",
    "#   model = Pipeline([\n",
    "#                 ('impute', SimpleImputer(strategy='median')),\n",
    "#                 ('select', SelectKBest(score_func=mutual_info_classif, k=20)),\n",
    "#                 ('rf', DecisionTreeClassifier())\n",
    "#   ])\n",
    "#   model.fit(X_train, y=y_train)\n",
    "#   models += [model]\n",
    "#   probs_train, probs_test = model.predict_proba(X_train)[:, 1], model.predict_proba(X_test)[:, 1]\n",
    "#   metrics_train = get_metrics(y_train, probs_train, ii, 'training')\n",
    "#   metrics_test = get_metrics(y_test, probs_test, ii, 'test')\n",
    "#   metrics = metrics.append(metrics_train, ignore_index=True, sort=False)\n",
    "#   metrics = metrics.append(metrics_test, ignore_index=True, sort=False)"
   ]
  },
  {
   "cell_type": "code",
   "execution_count": null,
   "metadata": {
    "colab": {
     "base_uri": "https://localhost:8080/",
     "height": 374
    },
    "colab_type": "code",
    "id": "5Wn8cwAgyQ2-",
    "outputId": "669a8cac-c470-4238-998d-175d7612997a"
   },
   "outputs": [],
   "source": [
    "keep_features_regex = '^race.+|^gender.+|^age.+|^weight.+|^admission_type_id.+|^time_in_hospital.+|^payer_code.+|^num_lab_procedures.+|^num_procedures.+|^num_medications.+|^number_outpatient.+|^number_emergency.+|^number_inpatient.+|insulin|diabetes_med'\n",
    "\n",
    "metrics = pd.DataFrame()\n",
    "models = []\n",
    "for ii in tqdm(range(5)):\n",
    "  X_train, y_train = train_sets[ii]\n",
    "  X_test, y_test = test_sets[ii]\n",
    "  keep_features = X.columns[X.columns.str.contains(keep_features_regex)].tolist()\n",
    "  X_train = X_train[keep_features].copy()\n",
    "  X_test = X_test[keep_features].copy()\n",
    "  model = Pipeline([\n",
    "                ('impute', SimpleImputer(strategy='median')),\n",
    "                ('dt', DecisionTreeClassifier())\n",
    "  ])\n",
    "  model.fit(X_train, y=y_train)\n",
    "  models += [model]\n",
    "  probs_train, probs_test = model.predict_proba(X_train)[:, 1], model.predict_proba(X_test)[:, 1]\n",
    "  metrics_train = get_metrics(y_train, probs_train, ii, 'training')\n",
    "  metrics_test = get_metrics(y_test, probs_test, ii, 'test')\n",
    "  metrics = metrics.append(metrics_train, ignore_index=True, sort=False)\n",
    "  metrics = metrics.append(metrics_test, ignore_index=True, sort=False)"
   ]
  },
  {
   "cell_type": "code",
   "execution_count": null,
   "metadata": {
    "colab": {
     "base_uri": "https://localhost:8080/",
     "height": 173
    },
    "colab_type": "code",
    "id": "85rq2j49qpRd",
    "outputId": "fdfa76ac-5b89-45e1-d399-3ca36188ba07"
   },
   "outputs": [],
   "source": [
    "metrics.groupby(['desc']).agg([np.mean, np.std])"
   ]
  },
  {
   "cell_type": "markdown",
   "metadata": {
    "colab_type": "text",
    "id": "QDozzR3XsBNB"
   },
   "source": [
    "## Model still sucks... Let's try with a more complex model\n",
    "\n"
   ]
  },
  {
   "cell_type": "code",
   "execution_count": null,
   "metadata": {
    "colab": {
     "base_uri": "https://localhost:8080/",
     "height": 374
    },
    "colab_type": "code",
    "id": "Zx8hAYuRr3De",
    "outputId": "6f81c074-66f3-4019-ed36-a4994defd742"
   },
   "outputs": [],
   "source": [
    "# keep_features_regex = '^race.+|^gender.+|^age.+|^weight.+|^admission_type_id.+|^time_in_hospital.+|^payer_code.+|^num_lab_procedures.+|^num_procedures.+|^num_medications.+|^number_outpatient.+|^number_emergency.+|^number_inpatient.+|insulin|diabetes_med'\n",
    "from sklearn.ensemble import RandomForestClassifier\n",
    "metrics = pd.DataFrame()\n",
    "models = []\n",
    "for ii in tqdm(range(5)):\n",
    "  X_train, y_train = train_sets[ii]\n",
    "  X_test, y_test = test_sets[ii]\n",
    "  keep_features = X.columns[X.columns.str.contains(keep_features_regex)].tolist()\n",
    "  # X_train = X_train[keep_features].copy()\n",
    "  # X_test = X_test[keep_features].copy()\n",
    "  model = Pipeline([\n",
    "                ('impute', SimpleImputer(strategy='median')),\n",
    "                ('rf', RandomForestClassifier())\n",
    "  ])\n",
    "  model.fit(X_train, y=y_train)\n",
    "  models += [model]\n",
    "  probs_train, probs_test = model.predict_proba(X_train)[:, 1], model.predict_proba(X_test)[:, 1]\n",
    "  metrics_train = get_metrics(y_train, probs_train, ii, 'training')\n",
    "  metrics_test = get_metrics(y_test, probs_test, ii, 'test')\n",
    "  metrics = metrics.append(metrics_train, ignore_index=True, sort=False)\n",
    "  metrics = metrics.append(metrics_test, ignore_index=True, sort=False)"
   ]
  },
  {
   "cell_type": "code",
   "execution_count": null,
   "metadata": {
    "colab": {
     "base_uri": "https://localhost:8080/",
     "height": 173
    },
    "colab_type": "code",
    "id": "hym6n1wLsOPU",
    "outputId": "1804f830-b2d3-4242-a4dd-0dabb75e91cb"
   },
   "outputs": [],
   "source": [
    "metrics.groupby(['desc']).agg([np.mean, np.std])"
   ]
  },
  {
   "cell_type": "markdown",
   "metadata": {
    "colab_type": "text",
    "id": "2Q-yabYxBrjS"
   },
   "source": [
    "# Not stelar but we're getting somewhere. However, using a default prediction threshold of 0.5, we have near-perfect specificity and very poor sensitivity, let's explore how these values change based on the prediction threshold."
   ]
  },
  {
   "cell_type": "code",
   "execution_count": null,
   "metadata": {
    "colab": {
     "base_uri": "https://localhost:8080/",
     "height": 833
    },
    "colab_type": "code",
    "id": "m3ixtL8isYWj",
    "outputId": "4457c648-88a6-4024-9102-afe40803d594"
   },
   "outputs": [],
   "source": [
    "thresholds = np.linspace(0, 1, 100)\n",
    "metrics = pd.DataFrame([get_metrics(y_test, probs_test, None, var, threshold=var) for var in thresholds])\n",
    "metrics = metrics.rename(columns={'desc': 'threshold'})\n"
   ]
  },
  {
   "cell_type": "code",
   "execution_count": null,
   "metadata": {
    "colab": {
     "base_uri": "https://localhost:8080/",
     "height": 727
    },
    "colab_type": "code",
    "id": "H1hwva7h_zaL",
    "outputId": "d9eb523e-76ff-42ea-8126-7c091da330f3"
   },
   "outputs": [],
   "source": [
    "from matplotlib import pyplot as plt\n",
    "plt.rcParams.update({'font.size': 22})\n",
    "plt.figure(figsize=(16, 12))\n",
    "plt.plot( 'threshold', 'sensitivity', data=metrics, marker='o', markerfacecolor='blue', markersize=2, color='skyblue', linewidth=4)\n",
    "plt.plot( 'threshold', 'specificity', data=metrics, marker='', color='olive', linewidth=2)\n",
    "plt.plot( 'threshold', 'ppv', data=metrics, marker='', color='black', linewidth=2, linestyle='dashed')\n",
    "plt.legend()"
   ]
  },
  {
   "cell_type": "code",
   "execution_count": null,
   "metadata": {
    "colab": {},
    "colab_type": "code",
    "id": "ijEG0h1u_1UP"
   },
   "outputs": [],
   "source": [
    "\n"
   ]
  }
 ],
 "metadata": {
  "anaconda-cloud": {},
  "kernelspec": {
   "display_name": "Python 3",
   "language": "python",
   "name": "python3"
  },
  "language_info": {
   "codemirror_mode": {
    "name": "ipython",
    "version": 3
   },
   "file_extension": ".py",
   "mimetype": "text/x-python",
   "name": "python",
   "nbconvert_exporter": "python",
   "pygments_lexer": "ipython3",
   "version": "3.7.3"
  }
 },
 "nbformat": 4,
 "nbformat_minor": 1
}
