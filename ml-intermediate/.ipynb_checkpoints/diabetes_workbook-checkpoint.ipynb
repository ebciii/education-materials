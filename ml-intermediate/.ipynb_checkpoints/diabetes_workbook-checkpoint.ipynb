{
 "cells": [
  {
   "cell_type": "markdown",
   "metadata": {},
   "source": [
    "# Diabetes readmission notebook\n",
    "Compiled by Victor Ruiz"
   ]
  },
  {
   "cell_type": "code",
   "execution_count": null,
   "metadata": {
    "colab": {},
    "colab_type": "code",
    "id": "fiU5gBc-9KFV"
   },
   "outputs": [],
   "source": [
    "import pandas as pd\n",
    "\n",
    "# Ingest the dataset from our github repo\n",
    "# For more information about the data, see on Kaggle: https://www.kaggle.com/brandao/diabetes#description.pdf\n",
    "\n",
    "diabetes_data = pd.read_csv('https://raw.githubusercontent.com/arcus/education-materials/master/ml-intermediate/datasets/diabetes/diabetic_data.csv')\n"
   ]
  },
  {
   "cell_type": "code",
   "execution_count": null,
   "metadata": {
    "colab": {
     "base_uri": "https://localhost:8080/",
     "height": 952
    },
    "colab_type": "code",
    "id": "q-6eseG9-FNF",
    "outputId": "1bc572fd-dc31-466d-eab1-367754b23e3c"
   },
   "outputs": [],
   "source": [
    "diabetes_data.info()"
   ]
  },
  {
   "cell_type": "code",
   "execution_count": null,
   "metadata": {
    "colab": {
     "base_uri": "https://localhost:8080/",
     "height": 326
    },
    "colab_type": "code",
    "id": "QBCppF-w_PV9",
    "outputId": "cfde73d4-a7d2-409d-82a0-f82c0a83c7f6"
   },
   "outputs": [],
   "source": [
    "diabetes_data.head()"
   ]
  },
  {
   "cell_type": "markdown",
   "metadata": {
    "colab_type": "text",
    "id": "I2vU7OVY68xA"
   },
   "source": [
    "What is the outcome?"
   ]
  },
  {
   "cell_type": "code",
   "execution_count": null,
   "metadata": {
    "colab": {
     "base_uri": "https://localhost:8080/",
     "height": 85
    },
    "colab_type": "code",
    "id": "Mn5ddySs6_4Y",
    "outputId": "b4441cd7-958c-43ae-a554-71f42d032d5f"
   },
   "outputs": [],
   "source": [
    "diabetes_data.readmitted.value_counts()"
   ]
  },
  {
   "cell_type": "code",
   "execution_count": null,
   "metadata": {
    "colab": {
     "base_uri": "https://localhost:8080/",
     "height": 68
    },
    "colab_type": "code",
    "id": "yycp6K1S7DDo",
    "outputId": "fc8ff025-d5ab-4aaa-d9eb-b86ca40aec6a"
   },
   "outputs": [],
   "source": [
    "### convert class to binary\n",
    "diabetes_data.loc[:, 'readmitted'] = diabetes_data.readmitted == '<30' # but why?\n",
    "diabetes_data.readmitted.value_counts()"
   ]
  },
  {
   "cell_type": "markdown",
   "metadata": {
    "colab_type": "text",
    "id": "H6jREF5-zdVz"
   },
   "source": [
    "Things to note from the data above:\n",
    "\n",
    "\n",
    "*   There ARE missing data\n",
    "*   Object columns have binary and categorical values\n",
    "\n",
    "Let's replace '?' with np.nan and identify boolean features"
   ]
  },
  {
   "cell_type": "code",
   "execution_count": null,
   "metadata": {
    "colab": {},
    "colab_type": "code",
    "id": "It0_VHLoyPhL"
   },
   "outputs": [],
   "source": [
    "import numpy as np\n",
    "diabetes_data = diabetes_data.replace('?', np.nan)\n",
    "binary_features = [\n",
    "      var for var in diabetes_data.columns if diabetes_data[var].isin(['Yes', 'No', np.nan]).all()\n",
    "]"
   ]
  },
  {
   "cell_type": "code",
   "execution_count": null,
   "metadata": {
    "colab": {
     "base_uri": "https://localhost:8080/",
     "height": 34
    },
    "colab_type": "code",
    "id": "WFxtLBwJzm0-",
    "outputId": "0bd31e8a-f7d8-42d3-f7bc-1e40e71edec5"
   },
   "outputs": [],
   "source": [
    "binary_features"
   ]
  },
  {
   "cell_type": "code",
   "execution_count": null,
   "metadata": {
    "colab": {
     "base_uri": "https://localhost:8080/",
     "height": 85
    },
    "colab_type": "code",
    "id": "gIV1jka7zoxy",
    "outputId": "49ac6e75-90c9-47bf-cd48-c3e812710642"
   },
   "outputs": [],
   "source": [
    "diabetes_data.tolazamide.value_counts() # see anything problematic????"
   ]
  },
  {
   "cell_type": "code",
   "execution_count": null,
   "metadata": {
    "colab": {
     "base_uri": "https://localhost:8080/",
     "height": 952
    },
    "colab_type": "code",
    "id": "FdJmAjPCzsoQ",
    "outputId": "1be389f8-0070-491d-c3e6-c09755608a8d"
   },
   "outputs": [],
   "source": [
    "diabetes_data.info()"
   ]
  },
  {
   "cell_type": "markdown",
   "metadata": {
    "colab_type": "text",
    "id": "o-4l156y1RQb"
   },
   "source": [
    "So we hace both numeric and categorical features, what do we do about that? --> Encoding! (dummy, one-hot, ordinal, ..., )\n",
    "\n",
    "sklearn requires numeric features only, so we will use dummy encoding for non-numeric features"
   ]
  },
  {
   "cell_type": "code",
   "execution_count": null,
   "metadata": {
    "colab": {},
    "colab_type": "code",
    "id": "T0JphAvG9_hW"
   },
   "outputs": [],
   "source": [
    "numeric = diabetes_data.dtypes[(diabetes_data.dtypes == 'int') | (diabetes_data.dtypes == 'float')].index.values\n",
    "non_numeric = diabetes_data.columns[~diabetes_data.columns.isin(numeric)].values\n",
    "\n",
    "non_numeric"
   ]
  },
  {
   "cell_type": "markdown",
   "metadata": {
    "colab_type": "text",
    "id": "9S7tY_yV2Iw_"
   },
   "source": [
    "Just in case, let's check how many unique values each of these feature has"
   ]
  },
  {
   "cell_type": "code",
   "execution_count": null,
   "metadata": {
    "colab": {
     "base_uri": "https://localhost:8080/",
     "height": 663
    },
    "colab_type": "code",
    "id": "VZ_PxTEd2DO3",
    "outputId": "e4b69e3c-1f15-4a1f-a217-b5679abe3641"
   },
   "outputs": [],
   "source": [
    "diabetes_data[non_numeric].apply(lambda x: x.unique().size, axis=0)\n",
    "diabetes_data.diag_1.value_counts().head(20)"
   ]
  },
  {
   "cell_type": "markdown",
   "metadata": {
    "colab_type": "text",
    "id": "kxxIcN-U3SXm"
   },
   "source": [
    "For simplicity, let's assume that diag_1 is the primary diagnosis and drop the rest"
   ]
  },
  {
   "cell_type": "code",
   "execution_count": null,
   "metadata": {
    "colab": {},
    "colab_type": "code",
    "id": "8XsnH4So3Hkf"
   },
   "outputs": [],
   "source": [
    "del diabetes_data['diag_2']\n",
    "del diabetes_data['diag_3'] # yes, I know how ugly this looks"
   ]
  },
  {
   "cell_type": "markdown",
   "metadata": {
    "colab_type": "text",
    "id": "1mIdo2PS5Dti"
   },
   "source": [
    "Are numeric features really numeric?\n"
   ]
  },
  {
   "cell_type": "code",
   "execution_count": null,
   "metadata": {
    "colab": {
     "base_uri": "https://localhost:8080/",
     "height": 224
    },
    "colab_type": "code",
    "id": "at6QT4Lc5Oaj",
    "outputId": "ba4fefc6-b715-4a84-f9bf-ecfa7f195fd4"
   },
   "outputs": [],
   "source": [
    "diabetes_data[numeric].head()"
   ]
  },
  {
   "cell_type": "markdown",
   "metadata": {
    "colab_type": "text",
    "id": "QWWXcCVW5aMZ"
   },
   "source": [
    "\n",
    "\n",
    "*   encounter_id should not be used for prediction, why?\n",
    "*   ^ditto for patient_nbr\n",
    "* What about admission_type_id, discharge_disposition_id, admission_source_id?\n",
    "\n"
   ]
  },
  {
   "cell_type": "code",
   "execution_count": null,
   "metadata": {
    "colab": {},
    "colab_type": "code",
    "id": "w5F-A0Fp5z8J"
   },
   "outputs": [],
   "source": [
    "non_numeric = np.concatenate((non_numeric, np.array(['admission_type_id', 'discharge_disposition_id', 'admission_source_id'])))\n",
    "del diabetes_data['encounter_id'] # still ugly -.-'\n",
    "del diabetes_data['patient_nbr']"
   ]
  },
  {
   "cell_type": "markdown",
   "metadata": {
    "colab_type": "text",
    "id": "20WCE-VU3pz3"
   },
   "source": [
    "OK, encoding time!"
   ]
  },
  {
   "cell_type": "code",
   "execution_count": null,
   "metadata": {
    "colab": {},
    "colab_type": "code",
    "id": "bkvPxyPl3h50"
   },
   "outputs": [],
   "source": [
    "non_numeric = non_numeric[~np.isin(non_numeric, ['diag_2', 'diag_3', 'readmitted', 'encounter_id', 'patient_nbr'])]\n",
    "encoded_data = pd.get_dummies(data=diabetes_data, prefix_sep='__dummycat__', dummy_na=True, columns=non_numeric, drop_first=True)"
   ]
  },
  {
   "cell_type": "code",
   "execution_count": null,
   "metadata": {
    "colab": {
     "base_uri": "https://localhost:8080/",
     "height": 34
    },
    "colab_type": "code",
    "id": "3JxTN_q64Cb-",
    "outputId": "e4e25a04-9b17-4b99-9127-86fe87518efa"
   },
   "outputs": [],
   "source": [
    "encoded_data.shape"
   ]
  },
  {
   "cell_type": "code",
   "execution_count": null,
   "metadata": {
    "colab": {
     "base_uri": "https://localhost:8080/",
     "height": 34
    },
    "colab_type": "code",
    "id": "j4AnN5Ao4FHR",
    "outputId": "63e35121-cba9-4ab5-88f6-1303a6a296f6"
   },
   "outputs": [],
   "source": [
    "diabetes_data.shape"
   ]
  },
  {
   "cell_type": "code",
   "execution_count": null,
   "metadata": {
    "colab": {
     "base_uri": "https://localhost:8080/",
     "height": 270
    },
    "colab_type": "code",
    "id": "B8vzNaBO4X2N",
    "outputId": "099cc102-3821-45b1-aa0e-8b3b66269165"
   },
   "outputs": [],
   "source": [
    "encoded_data.head()"
   ]
  },
  {
   "cell_type": "markdown",
   "metadata": {
    "colab_type": "text",
    "id": "xunrakqvBAd7"
   },
   "source": [
    "Clean garbage from encoding"
   ]
  },
  {
   "cell_type": "code",
   "execution_count": null,
   "metadata": {
    "colab": {
     "base_uri": "https://localhost:8080/",
     "height": 340
    },
    "colab_type": "code",
    "id": "drP31ezF4bC-",
    "outputId": "a493a17b-e000-4d08-939d-a22e021cb330"
   },
   "outputs": [],
   "source": [
    "nunique = encoded_data.nunique()\n",
    "constant_features = nunique[nunique == 1].index.values\n",
    "constant_features"
   ]
  },
  {
   "cell_type": "code",
   "execution_count": null,
   "metadata": {
    "colab": {},
    "colab_type": "code",
    "id": "gOK1lpRp6uRK"
   },
   "outputs": [],
   "source": [
    "encoded_data = encoded_data.reindex(encoded_data.columns[~encoded_data.columns.isin(constant_features)], axis=1)"
   ]
  },
  {
   "cell_type": "markdown",
   "metadata": {
    "colab_type": "text",
    "id": "JzwrUcsRBPlo"
   },
   "source": [
    "OK time for machine learning -.-'"
   ]
  },
  {
   "cell_type": "markdown",
   "metadata": {
    "colab_type": "text",
    "id": "jRuUq52yD4eH"
   },
   "source": [
    "# Set up cross-validation"
   ]
  },
  {
   "cell_type": "code",
   "execution_count": null,
   "metadata": {
    "colab": {
     "base_uri": "https://localhost:8080/",
     "height": 102
    },
    "colab_type": "code",
    "id": "wTDDNqLZ9b0a",
    "outputId": "4576ff78-eb28-4321-c9b0-1b806ee8435f"
   },
   "outputs": [],
   "source": [
    "### create 5 stratified folds\n",
    "from sklearn.model_selection import StratifiedKFold\n",
    "class_labels = encoded_data.readmitted.values\n",
    "data = encoded_data.values\n",
    "skf = StratifiedKFold(n_splits=5, random_state=0, shuffle=True)\n",
    "train_sets = []\n",
    "test_sets = []\n",
    "\n",
    "#split data between variables and outcome\n",
    "X, y = encoded_data[encoded_data.columns[encoded_data.columns != 'readmitted']].copy(), encoded_data.readmitted.copy()\n",
    "for train_index, test_index in skf.split(data, class_labels):\n",
    "  train_sets += [(X.iloc[train_index].copy(), y.iloc[train_index].copy())]\n",
    "  test_sets += [(X.iloc[test_index].copy(), y.iloc[test_index].copy())]\n",
    "  print(train_index.shape, test_index.shape)"
   ]
  },
  {
   "cell_type": "markdown",
   "metadata": {
    "colab_type": "text",
    "id": "dlmyhQISBO2N"
   },
   "source": [
    "What does one fold look like?"
   ]
  },
  {
   "cell_type": "code",
   "execution_count": null,
   "metadata": {
    "colab": {
     "base_uri": "https://localhost:8080/",
     "height": 456
    },
    "colab_type": "code",
    "id": "xyxtct3K9j0X",
    "outputId": "acad4bf5-8348-42d0-ba11-9458ea15cc73"
   },
   "outputs": [],
   "source": [
    "train_sets[0][0]"
   ]
  },
  {
   "cell_type": "code",
   "execution_count": null,
   "metadata": {
    "colab": {
     "base_uri": "https://localhost:8080/",
     "height": 221
    },
    "colab_type": "code",
    "id": "KgZHpnd7FC4A",
    "outputId": "f4c339d8-6214-4df0-87b2-fb320873f171"
   },
   "outputs": [],
   "source": [
    "train_sets[0][1]"
   ]
  },
  {
   "cell_type": "code",
   "execution_count": null,
   "metadata": {
    "colab": {
     "base_uri": "https://localhost:8080/",
     "height": 34
    },
    "colab_type": "code",
    "id": "RUef2Ds-DX4H",
    "outputId": "5bcecc52-0194-4b64-8610-8dba05e547eb"
   },
   "outputs": [],
   "source": [
    "train_sets[0][0].shape"
   ]
  },
  {
   "cell_type": "code",
   "execution_count": null,
   "metadata": {
    "colab": {
     "base_uri": "https://localhost:8080/",
     "height": 34
    },
    "colab_type": "code",
    "id": "0MkyuqLfDbjM",
    "outputId": "be0c6798-098c-499b-af5c-03e9273b0177"
   },
   "outputs": [],
   "source": [
    "test_sets[0][0].shape"
   ]
  },
  {
   "cell_type": "markdown",
   "metadata": {
    "colab_type": "text",
    "id": "5kuNZ5R4FdYX"
   },
   "source": [
    "# Define preprocessing and classification pipeline"
   ]
  },
  {
   "cell_type": "code",
   "execution_count": null,
   "metadata": {
    "colab": {},
    "colab_type": "code",
    "id": "v_pJT-8gFh0M"
   },
   "outputs": [],
   "source": [
    "from sklearn.pipeline import Pipeline\n",
    "from sklearn.impute import SimpleImputer\n",
    "from sklearn.ensemble import RandomForestClassifier\n",
    "from sklearn.tree import DecisionTreeClassifier\n",
    "pipe = Pipeline([\n",
    "                 ('impute', SimpleImputer(strategy='median')),\n",
    "                 ('rf', DecisionTreeClassifier())\n",
    "])"
   ]
  },
  {
   "cell_type": "markdown",
   "metadata": {
    "colab_type": "text",
    "id": "gnZiVLj2EGkg"
   },
   "source": [
    "# Fit a decision tree for each fold"
   ]
  },
  {
   "cell_type": "code",
   "execution_count": null,
   "metadata": {
    "colab": {
     "base_uri": "https://localhost:8080/",
     "height": 34
    },
    "colab_type": "code",
    "id": "EcdvZoHmEFcJ",
    "outputId": "17ebba8f-eedb-4589-f6f2-90a48e303361"
   },
   "outputs": [],
   "source": [
    "from copy import deepcopy  # to clone pipeline\n",
    "models = []\n",
    "class_probs_train = []\n",
    "class_probs_test = []\n",
    "from tqdm import tqdm\n",
    "for ii in tqdm(range(5)):\n",
    "  X_train, y_train = train_sets[ii]\n",
    "  X_test, y_test = test_sets[ii]\n",
    "  model = deepcopy(pipe)\n",
    "  model.fit(X_train, y=y_train)\n",
    "  models += [model]\n",
    "  class_probs_train += [model.predict_proba(X_train)]\n",
    "  class_probs_test += [model.predict_proba(X_test)]"
   ]
  },
  {
   "cell_type": "markdown",
   "metadata": {
    "colab_type": "text",
    "id": "uSxrbQbAg472"
   },
   "source": [
    "# Compute AUC, sensitivity, specificity, and PPV"
   ]
  },
  {
   "cell_type": "code",
   "execution_count": null,
   "metadata": {
    "colab": {
     "base_uri": "https://localhost:8080/",
     "height": 136
    },
    "colab_type": "code",
    "id": "ILi2KJIxiO4T",
    "outputId": "8504b9a9-36f7-44e8-863c-0860d36f3bc0"
   },
   "outputs": [],
   "source": [
    "#how do probabilities look like?\n",
    "class_probs_train[0]"
   ]
  },
  {
   "cell_type": "code",
   "execution_count": null,
   "metadata": {
    "colab": {
     "base_uri": "https://localhost:8080/",
     "height": 34
    },
    "colab_type": "code",
    "id": "3T-U4lvEisX8",
    "outputId": "056f8514-79e7-479e-80dd-6e6f428afabd"
   },
   "outputs": [],
   "source": [
    "class_probs_train[0].shape"
   ]
  },
  {
   "cell_type": "code",
   "execution_count": null,
   "metadata": {
    "colab": {
     "base_uri": "https://localhost:8080/",
     "height": 289
    },
    "colab_type": "code",
    "id": "B_ON8NnNiUNi",
    "outputId": "9089c719-77d8-4486-a479-4c5b30a447ff"
   },
   "outputs": [],
   "source": [
    "#what about models?\n",
    "models[0]"
   ]
  },
  {
   "cell_type": "code",
   "execution_count": null,
   "metadata": {
    "colab": {
     "base_uri": "https://localhost:8080/",
     "height": 119
    },
    "colab_type": "code",
    "id": "hU7Np9GJibxH",
    "outputId": "b5e0ceaf-4e85-4526-8f68-1475d97a5cea"
   },
   "outputs": [],
   "source": [
    "models[0]['rf']"
   ]
  },
  {
   "cell_type": "code",
   "execution_count": null,
   "metadata": {
    "colab": {
     "base_uri": "https://localhost:8080/",
     "height": 357
    },
    "colab_type": "code",
    "id": "Ya6HF6lhijLZ",
    "outputId": "d4a7db7e-dba9-4678-af1a-0582c4511cc7"
   },
   "outputs": [],
   "source": [
    "models[0]['rf'].__dict__"
   ]
  },
  {
   "cell_type": "code",
   "execution_count": null,
   "metadata": {
    "colab": {},
    "colab_type": "code",
    "id": "xUps06m_kAJP"
   },
   "outputs": [],
   "source": [
    "def get_metrics(y_true, y_score, fold, desc, threshold=0.5):\n",
    "  from sklearn.metrics import roc_auc_score, confusion_matrix\n",
    "  import pandas as pd\n",
    "  tn, fp, fn, tp = confusion_matrix(y_true, y_score >= threshold).ravel()\n",
    "  sensitivity = tp / (tp + fn)\n",
    "  specificity = tn / (tn + fp)\n",
    "  ppv = tp / (tp + fp)\n",
    "  auc = roc_auc_score(y_true, y_score)\n",
    "  vals = [sensitivity, specificity, ppv, auc, fold, desc]\n",
    "  names = ['sensitivity', 'specificity', 'ppv', 'auc', 'fold', 'desc']\n",
    "  return pd.Series(vals, names)\n"
   ]
  },
  {
   "cell_type": "code",
   "execution_count": null,
   "metadata": {
    "colab": {
     "base_uri": "https://localhost:8080/",
     "height": 34
    },
    "colab_type": "code",
    "id": "J87ROYJADc5I",
    "outputId": "ce130ed3-3f90-4bd3-8b92-bad8a145d8a4"
   },
   "outputs": [],
   "source": [
    "metrics = pd.DataFrame()\n",
    "for ii in tqdm(range(5)):\n",
    "  probs_train, probs_test = class_probs_train[ii][:, 1], class_probs_test[ii][:, 1]\n",
    "  y_train, y_test = train_sets[ii][1], test_sets[ii][1]\n",
    "  metrics_train = get_metrics(y_train, probs_train, ii, 'training')\n",
    "  metrics_test = get_metrics(y_test, probs_test, ii, 'test')\n",
    "  metrics = metrics.append(metrics_train, ignore_index=True, sort=False)\n",
    "  metrics = metrics.append(metrics_test, ignore_index=True, sort=False)"
   ]
  },
  {
   "cell_type": "code",
   "execution_count": null,
   "metadata": {
    "colab": {
     "base_uri": "https://localhost:8080/",
     "height": 359
    },
    "colab_type": "code",
    "id": "8-hUccy9i1xR",
    "outputId": "c958f354-06a7-4433-ce8f-5eedf3657386"
   },
   "outputs": [],
   "source": [
    "metrics"
   ]
  },
  {
   "cell_type": "markdown",
   "metadata": {
    "colab_type": "text",
    "id": "sSTS8-sCmgsH"
   },
   "source": [
    "# Get average statistics"
   ]
  },
  {
   "cell_type": "code",
   "execution_count": null,
   "metadata": {
    "colab": {
     "base_uri": "https://localhost:8080/",
     "height": 173
    },
    "colab_type": "code",
    "id": "23vj1AwRji52",
    "outputId": "8b395076-ea46-4719-a35e-587d13943175"
   },
   "outputs": [],
   "source": [
    "metrics.groupby(['desc']).agg([np.mean, np.std])"
   ]
  },
  {
   "cell_type": "code",
   "execution_count": null,
   "metadata": {},
   "outputs": [],
   "source": [
    "# CHALLENGE: Would you like to use a specific or different measure? Play around a bit here if you'd like!"
   ]
  },
  {
   "cell_type": "markdown",
   "metadata": {
    "colab_type": "text",
    "id": "_YHdTqnJnzmn"
   },
   "source": [
    "# Results' interpretation\n",
    "* Perfect classification in training\n",
    "* Poor classification in test\n",
    "* Model has high specificity but low sensitivity. How can this be used?\n",
    "* Very little variation in test performance (still poor though)\n",
    "* Could model complexity (N features) be causing overfitting?\n",
    "\n",
    "Let's repeat the experiment with fewer features and see what happens"
   ]
  },
  {
   "cell_type": "code",
   "execution_count": null,
   "metadata": {
    "colab": {},
    "colab_type": "code",
    "id": "f5p8RTqYt6qy"
   },
   "outputs": [],
   "source": [
    "# metrics = pd.DataFrame()\n",
    "# models = []\n",
    "# from sklearn.feature_selection import SelectKBest, mutual_info_classif\n",
    "# for ii in tqdm(range(5)):\n",
    "#   X_train, y_train = train_sets[ii]\n",
    "#   X_test, y_test = test_sets[ii]\n",
    "#   model = Pipeline([\n",
    "#                 ('impute', SimpleImputer(strategy='median')),\n",
    "#                 ('select', SelectKBest(score_func=mutual_info_classif, k=20)),\n",
    "#                 ('rf', DecisionTreeClassifier())\n",
    "#   ])\n",
    "#   model.fit(X_train, y=y_train)\n",
    "#   models += [model]\n",
    "#   probs_train, probs_test = model.predict_proba(X_train)[:, 1], model.predict_proba(X_test)[:, 1]\n",
    "#   metrics_train = get_metrics(y_train, probs_train, ii, 'training')\n",
    "#   metrics_test = get_metrics(y_test, probs_test, ii, 'test')\n",
    "#   metrics = metrics.append(metrics_train, ignore_index=True, sort=False)\n",
    "#   metrics = metrics.append(metrics_test, ignore_index=True, sort=False)"
   ]
  },
  {
   "cell_type": "code",
   "execution_count": null,
   "metadata": {
    "colab": {
     "base_uri": "https://localhost:8080/",
     "height": 374
    },
    "colab_type": "code",
    "id": "5Wn8cwAgyQ2-",
    "outputId": "669a8cac-c470-4238-998d-175d7612997a"
   },
   "outputs": [],
   "source": [
    "keep_features_regex = '^race.+|^gender.+|^age.+|^weight.+|^admission_type_id.+|^time_in_hospital.+|^payer_code.+|^num_lab_procedures.+|^num_procedures.+|^num_medications.+|^number_outpatient.+|^number_emergency.+|^number_inpatient.+|insulin|diabetes_med'\n",
    "\n",
    "metrics = pd.DataFrame()\n",
    "models = []\n",
    "for ii in tqdm(range(5)):\n",
    "  X_train, y_train = train_sets[ii]\n",
    "  X_test, y_test = test_sets[ii]\n",
    "  keep_features = X.columns[X.columns.str.contains(keep_features_regex)].tolist()\n",
    "  X_train = X_train[keep_features].copy()\n",
    "  X_test = X_test[keep_features].copy()\n",
    "  model = Pipeline([\n",
    "                ('impute', SimpleImputer(strategy='median')),\n",
    "                ('dt', DecisionTreeClassifier())\n",
    "  ])\n",
    "  model.fit(X_train, y=y_train)\n",
    "  models += [model]\n",
    "  probs_train, probs_test = model.predict_proba(X_train)[:, 1], model.predict_proba(X_test)[:, 1]\n",
    "  metrics_train = get_metrics(y_train, probs_train, ii, 'training')\n",
    "  metrics_test = get_metrics(y_test, probs_test, ii, 'test')\n",
    "  metrics = metrics.append(metrics_train, ignore_index=True, sort=False)\n",
    "  metrics = metrics.append(metrics_test, ignore_index=True, sort=False)"
   ]
  },
  {
   "cell_type": "code",
   "execution_count": null,
   "metadata": {
    "colab": {
     "base_uri": "https://localhost:8080/",
     "height": 173
    },
    "colab_type": "code",
    "id": "85rq2j49qpRd",
    "outputId": "fdfa76ac-5b89-45e1-d399-3ca36188ba07"
   },
   "outputs": [],
   "source": [
    "metrics.groupby(['desc']).agg([np.mean, np.std])"
   ]
  },
  {
   "cell_type": "markdown",
   "metadata": {
    "colab_type": "text",
    "id": "QDozzR3XsBNB"
   },
   "source": [
    "## Model still sucks... Let's try with a more complex model\n",
    "\n"
   ]
  },
  {
   "cell_type": "code",
   "execution_count": null,
   "metadata": {
    "colab": {
     "base_uri": "https://localhost:8080/",
     "height": 374
    },
    "colab_type": "code",
    "id": "Zx8hAYuRr3De",
    "outputId": "6f81c074-66f3-4019-ed36-a4994defd742"
   },
   "outputs": [],
   "source": [
    "# keep_features_regex = '^race.+|^gender.+|^age.+|^weight.+|^admission_type_id.+|^time_in_hospital.+|^payer_code.+|^num_lab_procedures.+|^num_procedures.+|^num_medications.+|^number_outpatient.+|^number_emergency.+|^number_inpatient.+|insulin|diabetes_med'\n",
    "from sklearn.ensemble import RandomForestClassifier\n",
    "metrics = pd.DataFrame()\n",
    "models = []\n",
    "for ii in tqdm(range(5)):\n",
    "  X_train, y_train = train_sets[ii]\n",
    "  X_test, y_test = test_sets[ii]\n",
    "  keep_features = X.columns[X.columns.str.contains(keep_features_regex)].tolist()\n",
    "  # X_train = X_train[keep_features].copy()\n",
    "  # X_test = X_test[keep_features].copy()\n",
    "  model = Pipeline([\n",
    "                ('impute', SimpleImputer(strategy='median')),\n",
    "                ('rf', RandomForestClassifier())\n",
    "  ])\n",
    "  model.fit(X_train, y=y_train)\n",
    "  models += [model]\n",
    "  probs_train, probs_test = model.predict_proba(X_train)[:, 1], model.predict_proba(X_test)[:, 1]\n",
    "  metrics_train = get_metrics(y_train, probs_train, ii, 'training')\n",
    "  metrics_test = get_metrics(y_test, probs_test, ii, 'test')\n",
    "  metrics = metrics.append(metrics_train, ignore_index=True, sort=False)\n",
    "  metrics = metrics.append(metrics_test, ignore_index=True, sort=False)"
   ]
  },
  {
   "cell_type": "code",
   "execution_count": null,
   "metadata": {
    "colab": {
     "base_uri": "https://localhost:8080/",
     "height": 173
    },
    "colab_type": "code",
    "id": "hym6n1wLsOPU",
    "outputId": "1804f830-b2d3-4242-a4dd-0dabb75e91cb"
   },
   "outputs": [],
   "source": [
    "metrics.groupby(['desc']).agg([np.mean, np.std])"
   ]
  },
  {
   "cell_type": "markdown",
   "metadata": {
    "colab_type": "text",
    "id": "2Q-yabYxBrjS"
   },
   "source": [
    "# Not stelar but we're getting somewhere. However, using a default prediction threshold of 0.5, we have near-perfect specificity and very poor sensitivity, let's explore how these values change based on the prediction threshold."
   ]
  },
  {
   "cell_type": "code",
   "execution_count": null,
   "metadata": {
    "colab": {
     "base_uri": "https://localhost:8080/",
     "height": 833
    },
    "colab_type": "code",
    "id": "m3ixtL8isYWj",
    "outputId": "4457c648-88a6-4024-9102-afe40803d594"
   },
   "outputs": [],
   "source": [
    "thresholds = np.linspace(0, 1, 100)\n",
    "metrics = pd.DataFrame([get_metrics(y_test, probs_test, None, var, threshold=var) for var in thresholds])\n",
    "metrics = metrics.rename(columns={'desc': 'threshold'})\n"
   ]
  },
  {
   "cell_type": "code",
   "execution_count": null,
   "metadata": {
    "colab": {
     "base_uri": "https://localhost:8080/",
     "height": 727
    },
    "colab_type": "code",
    "id": "H1hwva7h_zaL",
    "outputId": "d9eb523e-76ff-42ea-8126-7c091da330f3"
   },
   "outputs": [],
   "source": [
    "from matplotlib import pyplot as plt\n",
    "plt.rcParams.update({'font.size': 22})\n",
    "plt.figure(figsize=(16, 12))\n",
    "plt.plot( 'threshold', 'sensitivity', data=metrics, marker='o', markerfacecolor='blue', markersize=2, color='skyblue', linewidth=4)\n",
    "plt.plot( 'threshold', 'specificity', data=metrics, marker='', color='olive', linewidth=2)\n",
    "plt.plot( 'threshold', 'ppv', data=metrics, marker='', color='black', linewidth=2, linestyle='dashed')\n",
    "plt.legend()"
   ]
  },
  {
   "cell_type": "code",
   "execution_count": null,
   "metadata": {
    "colab": {},
    "colab_type": "code",
    "id": "ijEG0h1u_1UP"
   },
   "outputs": [],
   "source": [
    "\n"
   ]
  }
 ],
 "metadata": {
  "anaconda-cloud": {},
  "kernelspec": {
   "display_name": "Python 3",
   "language": "python",
   "name": "python3"
  },
  "language_info": {
   "codemirror_mode": {
    "name": "ipython",
    "version": 3
   },
   "file_extension": ".py",
   "mimetype": "text/x-python",
   "name": "python",
   "nbconvert_exporter": "python",
   "pygments_lexer": "ipython3",
   "version": "3.7.3"
  }
 },
 "nbformat": 4,
 "nbformat_minor": 1
}
